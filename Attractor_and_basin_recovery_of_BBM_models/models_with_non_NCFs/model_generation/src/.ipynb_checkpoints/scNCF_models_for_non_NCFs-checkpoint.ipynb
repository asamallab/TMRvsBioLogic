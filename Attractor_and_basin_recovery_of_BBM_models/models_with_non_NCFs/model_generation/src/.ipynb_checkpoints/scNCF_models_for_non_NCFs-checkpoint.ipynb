{
 "cells": [
  {
   "cell_type": "code",
   "execution_count": 40,
   "id": "cc233d23",
   "metadata": {},
   "outputs": [],
   "source": [
    "import pandas as pd\n",
    "import pickle as pkl\n",
    "import numpy as np"
   ]
  },
  {
   "cell_type": "code",
   "execution_count": 41,
   "id": "aeba9891",
   "metadata": {},
   "outputs": [],
   "source": [
    "def check_conflicting_constraints (rows, rows_output):\n",
    "    '''\n",
    "    rows: all the truth table rows which are constrainted by the attractor\n",
    "    rows_output:  all the outputs of the rows of the truth table which\n",
    "    are constrainted by the attractor\n",
    "    returns rows and the row outputs with no conflicting constraints\n",
    "    '''\n",
    "    D, remove_indices = {}, []\n",
    "    for element in set(rows):\n",
    "        D[element] = [index for index, ele in enumerate(rows) if ele == element]\n",
    "    for element in D:\n",
    "        if len(set(rows_output[D[element]])) > 1:\n",
    "            remove_indices += D[element]\n",
    "            print ('There exists a conflict at row :', element)\n",
    "    for index in sorted(remove_indices, reverse=True):\n",
    "        rows = np.delete(rows, index)\n",
    "        rows_output = np.delete(rows_output, index)\n",
    "    return rows, rows_output\n",
    "\n",
    "def sign_bio_model_nodes(edges, all_nodes, node_num):\n",
    "    '''\n",
    "    edges: It is a dataframe with three columns: 'froms', 'to' and 'sign' where 'from' and 'to' corresponds \n",
    "    to vector of nodes from which an edge emanates and terminates respectively and sign denotes the nature of the edge.\n",
    "    all_nodes: This is a list of nodes ([gene0, gene1, gene2,...])\n",
    "    node_num: This is a dictionary that links genes with an index ({'gene0': 0, 'gene1': 1, 'gene2': 2, 'gene3': 3,\n",
    "    'gene4': 4, 'gene5': 5, ...})\n",
    "    returns information about the sign of the interactions in the network\n",
    "        -({0: 'ai', 1: 'aia', 2: 'aaaaa', 3: 'a', 4: 'a', ...})\n",
    "    '''\n",
    "    signs = dict()\n",
    "    for node in all_nodes:\n",
    "        inter = edges.loc[edges[\"to\"] == node, [\"sign\"]]\n",
    "        signs[node_num[node]] = ''.join(list(inter.sign))\n",
    "    return signs\n",
    "\n",
    "\n",
    "def attr_constr_funcs(node_num, in_edges, attr_as_matrix):\n",
    "    '''\n",
    "    -node_num: a dictionary where each gene is associated with an integer\n",
    "    -inedges: a dictionary where each gene is associated with its regulatory inputs\n",
    "    -attr_as_matrix: the attractor specified as a matrix\n",
    "    returns a list of BFs in the order in 'node_num' which satisfy the\n",
    "    attractor constraints\n",
    "    NOTE: those rows of the truth table where a function output is replaced\n",
    "    multiple times have to be excluded from the constraint\n",
    "    '''\n",
    "    attr_constr_BFs = dict()\n",
    "    for node in node_num:\n",
    "        i = node_num[node]\n",
    "        x = np.array(attr_as_matrix[i], str)\n",
    "        attr_constr_rows = np.zeros(len(attr_as_matrix.T), str)\n",
    "        for in_edge in in_edges[i]:\n",
    "            attr_constr_rows = np.char.add(attr_constr_rows, np.array(attr_as_matrix[in_edge], str))\n",
    "        rows = np.array([int(ele,2) for ele in attr_constr_rows])\n",
    "        rows, x = check_conflicting_constraints(rows, x) #Check for conflicting constraints for rows at the node under consideration\n",
    "        tt = np.array (2**len(in_edges[i])*['x'])\n",
    "        tt[rows] = x\n",
    "        attr_constr_BFs[node_num[node]] = ''.join(tt)\n",
    "    return attr_constr_BFs"
   ]
  },
  {
   "cell_type": "code",
   "execution_count": 42,
   "id": "475a5d4e",
   "metadata": {},
   "outputs": [],
   "source": [
    "model_num = 95"
   ]
  },
  {
   "cell_type": "code",
   "execution_count": 43,
   "id": "fcb29e92",
   "metadata": {},
   "outputs": [],
   "source": [
    "with open(f'../input/model_{model_num}/node_num_swap.pkl', 'rb') as file1:\n",
    "    node_num_swap = pkl.load(file1)\n",
    "node_num = {v: k for k, v in node_num_swap.items()}\n",
    "N = len(node_num)\n",
    "with open(f'../input/model_{model_num}/inedges.pkl', 'rb') as file2:\n",
    "    in_edges = pkl.load(file2)\n",
    "att_list = pd.read_csv(f'../input/original_att_files/bio_rule_attractors_model_{model_num}.tsv', sep = '\\t')\n",
    "att_list_eval = eval(att_list['fixed_points'][0])\n",
    "bin_reversed = [[int(b) for b in format(int(x), '0'+ str(N)+'b')[::-1]] for x in att_list_eval]\n",
    "attr_as_matrix = np.array(bin_reversed).T\n",
    "all_nodes = list(node_num.keys())\n"
   ]
  },
  {
   "cell_type": "code",
   "execution_count": 50,
   "id": "c6ff11ed",
   "metadata": {},
   "outputs": [
    {
     "data": {
      "text/plain": [
       "{0: '0xxx1xxx',\n",
       " 1: 'x0xx00xx',\n",
       " 2: 'xx00xxxx0000xxxxxx00xxxx0000xxxx',\n",
       " 3: '0x',\n",
       " 4: '0x1xxxxxxxxxxxxxxxxxxxxxxxxxxxxx',\n",
       " 5: '0x',\n",
       " 6: '0x',\n",
       " 7: '01xxxxxxxxxxxxxxxxxxxxxxxxxxxxxx',\n",
       " 8: '0xxx1xxx',\n",
       " 9: '0x'}"
      ]
     },
     "execution_count": 50,
     "metadata": {},
     "output_type": "execute_result"
    }
   ],
   "source": [
    "attr_constr_funcs(node_num, in_edges, attr_as_matrix)"
   ]
  },
  {
   "cell_type": "code",
   "execution_count": 51,
   "id": "6ff22e64",
   "metadata": {},
   "outputs": [],
   "source": [
    "with open('../input/model_95/signs.pkl', 'rb') as file3:\n",
    "    sign = pkl.load(file3)"
   ]
  },
  {
   "cell_type": "code",
   "execution_count": null,
   "id": "7097682c",
   "metadata": {},
   "outputs": [],
   "source": []
  },
  {
   "cell_type": "code",
   "execution_count": null,
   "id": "5ccb236a",
   "metadata": {},
   "outputs": [],
   "source": []
  }
 ],
 "metadata": {
  "kernelspec": {
   "display_name": "Python [conda env:base] *",
   "language": "python",
   "name": "conda-base-py"
  },
  "language_info": {
   "codemirror_mode": {
    "name": "ipython",
    "version": 3
   },
   "file_extension": ".py",
   "mimetype": "text/x-python",
   "name": "python",
   "nbconvert_exporter": "python",
   "pygments_lexer": "ipython3",
   "version": "3.11.0"
  }
 },
 "nbformat": 4,
 "nbformat_minor": 5
}
