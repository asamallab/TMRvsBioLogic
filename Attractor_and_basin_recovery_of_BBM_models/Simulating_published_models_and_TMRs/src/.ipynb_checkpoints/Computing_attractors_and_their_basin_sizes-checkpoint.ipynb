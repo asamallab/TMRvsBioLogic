{
 "cells": [
  {
   "cell_type": "markdown",
   "id": "a8d2864c",
   "metadata": {},
   "source": [
    "# Determining the fixed points and the cycles"
   ]
  },
  {
   "cell_type": "code",
   "execution_count": 3,
   "id": "7c723a10",
   "metadata": {},
   "outputs": [
    {
     "name": "stdout",
     "output_type": "stream",
     "text": [
      "  model_number\n",
      "1           95\n",
      "                                                             fixed_points\n",
      "1 [\"400\",\"79\",\"78\",\"144\",\"335\",\"401\",\"623\",\"622\",\"944\",\"688\",\"879\",\"945\"]\n",
      "  cycles\n",
      "1     []\n"
     ]
    }
   ],
   "source": [
    "library(BoolNet)\n",
    "library(jsonlite)\n",
    "\n",
    "func_type <- 'IMR'\n",
    "mod_num <- 95\n",
    "\n",
    "get_attractors_info <- function(mod_num) {\n",
    "  bool_model <- loadNetwork(sprintf(\"../../convert_to_bnet/output/bnet_models/%s_rule/bio_models_%s_rule_%s.bnet\",\n",
    "                                    func_type, func_type, mod_num))\n",
    "  \n",
    "  attractors <- getAttractors(bool_model, type = \"synchronous\")\n",
    "  \n",
    "  fixed_points <- list()\n",
    "  cycles <- list()\n",
    "  \n",
    "  for (attr in attractors$attractors) {\n",
    "    states <- attr$involvedStates\n",
    "    state_strings <- lapply(states, function(s) paste(as.integer(s), collapse = \"\"))\n",
    "    \n",
    "    if (length(state_strings) == 1) {\n",
    "      fixed_points <- append(fixed_points, state_strings[[1]])\n",
    "    } else {\n",
    "      cycles <- append(cycles, list(state_strings))\n",
    "    }\n",
    "  }\n",
    "  \n",
    "  fixed_points_str <- as.character(toJSON(fixed_points, auto_unbox = TRUE))\n",
    "  cycles_str <- as.character(toJSON(cycles, auto_unbox = TRUE))\n",
    "                            \n",
    "  output_file <- sprintf(\"../output/%s_attractors_model_%d.tsv\", func_type, mod_num)\n",
    "  \n",
    "  df1 <- data.frame(model_number = mod_num, fixed_points = fixed_points_str, cycles = cycles_str)\n",
    "  write.table(df1, file = output_file, sep = \"\\t\", row.names = FALSE, quote = FALSE)\n",
    "  return(df1)\n",
    "}\n",
    "\n",
    "print(get_attractors_info(mod_num))"
   ]
  },
  {
   "cell_type": "markdown",
   "id": "0c148681",
   "metadata": {},
   "source": [
    "# Computation of the attractor lengths and the associated basin sizes"
   ]
  },
  {
   "cell_type": "code",
   "execution_count": 4,
   "id": "4f695e98",
   "metadata": {},
   "outputs": [],
   "source": [
    "library (BoolNet)\n",
    "func_type <- 'IMR'\n",
    "mod_num <- 95\n",
    "\n",
    "attractor_number <- c()\n",
    "attractor_length <- c()\n",
    "attractor_basin_size <- c()\n",
    "\n",
    "bool_model <- loadNetwork(sprintf(\"../../convert_to_bnet/output/bnet_models/%s_rule/bio_models_%s_rule_%s.bnet\", func_type, func_type, mod_num))\n",
    "attractor_info <- getAttractors(bool_model)\n",
    "for (attractor_num in 1:length(attractor_info$attractors)){\n",
    "  attractor_length <- c(attractor_length, length(attractor_info$attractors[[attractor_num]]$involvedStates))\n",
    "  attractor_basin_size <- c(attractor_basin_size, attractor_info$attractors[[attractor_num]]$basinSize)\n",
    "  }\n",
    "attractor_number <- 1:attractor_num\n",
    "model_number <- rep.int(mod_num, attractor_num)\n",
    "\n",
    "output_file <- sprintf(\"../output/%s_attractor_properties_model_%d.tsv\", func_type, mod_num)\n",
    "df2 <- data.frame (model_number, attractor_number, attractor_length, attractor_basin_size)\n",
    "write.table(df2, file = output_file, sep = \"\\t\", row.names = FALSE, quote = FALSE)"
   ]
  },
  {
   "cell_type": "code",
   "execution_count": 5,
   "id": "a57e02b0",
   "metadata": {},
   "outputs": [
    {
     "data": {
      "text/html": [
       "<table class=\"dataframe\">\n",
       "<caption>A data.frame: 12 × 4</caption>\n",
       "<thead>\n",
       "\t<tr><th scope=col>model_number</th><th scope=col>attractor_number</th><th scope=col>attractor_length</th><th scope=col>attractor_basin_size</th></tr>\n",
       "\t<tr><th scope=col>&lt;dbl&gt;</th><th scope=col>&lt;int&gt;</th><th scope=col>&lt;int&gt;</th><th scope=col>&lt;int&gt;</th></tr>\n",
       "</thead>\n",
       "<tbody>\n",
       "\t<tr><td>95</td><td> 1</td><td>1</td><td>358</td></tr>\n",
       "\t<tr><td>95</td><td> 2</td><td>1</td><td>138</td></tr>\n",
       "\t<tr><td>95</td><td> 3</td><td>1</td><td>  4</td></tr>\n",
       "\t<tr><td>95</td><td> 4</td><td>1</td><td>  4</td></tr>\n",
       "\t<tr><td>95</td><td> 5</td><td>1</td><td>  4</td></tr>\n",
       "\t<tr><td>95</td><td> 6</td><td>1</td><td>  4</td></tr>\n",
       "\t<tr><td>95</td><td> 7</td><td>1</td><td>358</td></tr>\n",
       "\t<tr><td>95</td><td> 8</td><td>1</td><td>  4</td></tr>\n",
       "\t<tr><td>95</td><td> 9</td><td>1</td><td>138</td></tr>\n",
       "\t<tr><td>95</td><td>10</td><td>1</td><td>  4</td></tr>\n",
       "\t<tr><td>95</td><td>11</td><td>1</td><td>  4</td></tr>\n",
       "\t<tr><td>95</td><td>12</td><td>1</td><td>  4</td></tr>\n",
       "</tbody>\n",
       "</table>\n"
      ],
      "text/latex": [
       "A data.frame: 12 × 4\n",
       "\\begin{tabular}{llll}\n",
       " model\\_number & attractor\\_number & attractor\\_length & attractor\\_basin\\_size\\\\\n",
       " <dbl> & <int> & <int> & <int>\\\\\n",
       "\\hline\n",
       "\t 95 &  1 & 1 & 358\\\\\n",
       "\t 95 &  2 & 1 & 138\\\\\n",
       "\t 95 &  3 & 1 &   4\\\\\n",
       "\t 95 &  4 & 1 &   4\\\\\n",
       "\t 95 &  5 & 1 &   4\\\\\n",
       "\t 95 &  6 & 1 &   4\\\\\n",
       "\t 95 &  7 & 1 & 358\\\\\n",
       "\t 95 &  8 & 1 &   4\\\\\n",
       "\t 95 &  9 & 1 & 138\\\\\n",
       "\t 95 & 10 & 1 &   4\\\\\n",
       "\t 95 & 11 & 1 &   4\\\\\n",
       "\t 95 & 12 & 1 &   4\\\\\n",
       "\\end{tabular}\n"
      ],
      "text/markdown": [
       "\n",
       "A data.frame: 12 × 4\n",
       "\n",
       "| model_number &lt;dbl&gt; | attractor_number &lt;int&gt; | attractor_length &lt;int&gt; | attractor_basin_size &lt;int&gt; |\n",
       "|---|---|---|---|\n",
       "| 95 |  1 | 1 | 358 |\n",
       "| 95 |  2 | 1 | 138 |\n",
       "| 95 |  3 | 1 |   4 |\n",
       "| 95 |  4 | 1 |   4 |\n",
       "| 95 |  5 | 1 |   4 |\n",
       "| 95 |  6 | 1 |   4 |\n",
       "| 95 |  7 | 1 | 358 |\n",
       "| 95 |  8 | 1 |   4 |\n",
       "| 95 |  9 | 1 | 138 |\n",
       "| 95 | 10 | 1 |   4 |\n",
       "| 95 | 11 | 1 |   4 |\n",
       "| 95 | 12 | 1 |   4 |\n",
       "\n"
      ],
      "text/plain": [
       "   model_number attractor_number attractor_length attractor_basin_size\n",
       "1  95            1               1                358                 \n",
       "2  95            2               1                138                 \n",
       "3  95            3               1                  4                 \n",
       "4  95            4               1                  4                 \n",
       "5  95            5               1                  4                 \n",
       "6  95            6               1                  4                 \n",
       "7  95            7               1                358                 \n",
       "8  95            8               1                  4                 \n",
       "9  95            9               1                138                 \n",
       "10 95           10               1                  4                 \n",
       "11 95           11               1                  4                 \n",
       "12 95           12               1                  4                 "
      ]
     },
     "metadata": {},
     "output_type": "display_data"
    }
   ],
   "source": [
    "df2"
   ]
  },
  {
   "cell_type": "code",
   "execution_count": null,
   "id": "e094e38c",
   "metadata": {},
   "outputs": [],
   "source": []
  }
 ],
 "metadata": {
  "kernelspec": {
   "display_name": "R [conda env:base] *",
   "language": "R",
   "name": "conda-base-r"
  },
  "language_info": {
   "codemirror_mode": "r",
   "file_extension": ".r",
   "mimetype": "text/x-r-source",
   "name": "R",
   "pygments_lexer": "r",
   "version": "4.0.5"
  }
 },
 "nbformat": 4,
 "nbformat_minor": 5
}
