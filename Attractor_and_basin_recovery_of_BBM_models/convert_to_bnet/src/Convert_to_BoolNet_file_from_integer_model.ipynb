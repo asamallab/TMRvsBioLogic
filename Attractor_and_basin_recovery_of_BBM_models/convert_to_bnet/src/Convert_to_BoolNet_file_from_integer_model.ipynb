{
 "cells": [
  {
   "cell_type": "code",
   "execution_count": 4,
   "id": "727ba33d",
   "metadata": {},
   "outputs": [],
   "source": [
    "import pandas as pd\n",
    "import ast\n",
    "import pickle as pkl\n",
    "import BF_convertors as conv"
   ]
  },
  {
   "cell_type": "code",
   "execution_count": 5,
   "id": "9223c808",
   "metadata": {},
   "outputs": [],
   "source": [
    "def give_bnet_models(func_type, mod_name_list):\n",
    "    model_df = pd.read_csv('../input/bio_model_' + func_type+'_rule_as_int.tsv', sep = '\\t')\n",
    "    model_df['model'] = model_df['model'].apply(ast.literal_eval)\n",
    "    for mod_num in mod_name_list:\n",
    "        mod_num = int(mod_num)\n",
    "        with open(f'../../network_generation/output/published_network_info/model_{mod_num}/node_num_swap.pkl', 'rb') as file:\n",
    "            node_num_swap = pkl.load(file)\n",
    "        with open(f'../../network_generation/output/published_network_info/model_{mod_num}/inedges.pkl', 'rb') as file:\n",
    "            in_edges = pkl.load(file)\n",
    "        node_num = {value: key for key, value in node_num_swap.items()}\n",
    "        BF_int_list = model_df.loc[model_df['Model_no'] == mod_num, 'model'].values[0]\n",
    "        fname = f'../output/bnet_models/{func_type}_rule/bio_models_{func_type}_rule_{mod_num}.bnet'\n",
    "        if func_type == 'IMR':\n",
    "            for k1 in in_edges:\n",
    "                if len(in_edges[k1]) % 2 == 0 and k1 not in in_edges[k1]:\n",
    "                    in_edges[k1].append(k1)\n",
    "        if func_type == 'BMR':\n",
    "            for k1 in in_edges:\n",
    "                if k1 not in in_edges[k1]:\n",
    "                    in_edges[k1].append(k1)\n",
    "        conv.ints_to_BNet(fname, node_num, in_edges, BF_int_list, simplify=False)\n",
    "        \n",
    "    return 'BoolNet files have been saved in the output folder'"
   ]
  },
  {
   "cell_type": "code",
   "execution_count": 8,
   "id": "0c0516d7",
   "metadata": {},
   "outputs": [
    {
     "data": {
      "text/plain": [
       "'BoolNet files have been saved in the output folder'"
      ]
     },
     "execution_count": 8,
     "metadata": {},
     "output_type": "execute_result"
    }
   ],
   "source": [
    "mod_name_list = [7,109, 88, 110, 31, 133, 95, 23, 67, 63, 208, 10, 212, 74, 99, 86, 100, 69, 22, 40, 200, 61, 85, 8]\n",
    "func_type = 'BMR'\n",
    "give_bnet_models(func_type, mod_name_list)"
   ]
  },
  {
   "cell_type": "code",
   "execution_count": null,
   "id": "ce946775",
   "metadata": {},
   "outputs": [],
   "source": []
  },
  {
   "cell_type": "code",
   "execution_count": null,
   "id": "2dc26734",
   "metadata": {},
   "outputs": [],
   "source": []
  }
 ],
 "metadata": {
  "kernelspec": {
   "display_name": "Python [conda env:base] *",
   "language": "python",
   "name": "conda-base-py"
  },
  "language_info": {
   "codemirror_mode": {
    "name": "ipython",
    "version": 3
   },
   "file_extension": ".py",
   "mimetype": "text/x-python",
   "name": "python",
   "nbconvert_exporter": "python",
   "pygments_lexer": "ipython3",
   "version": "3.11.0"
  }
 },
 "nbformat": 4,
 "nbformat_minor": 5
}
