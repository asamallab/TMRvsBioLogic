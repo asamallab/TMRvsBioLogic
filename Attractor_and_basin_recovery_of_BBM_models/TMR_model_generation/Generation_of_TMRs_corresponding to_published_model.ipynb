{
 "cells": [
  {
   "cell_type": "code",
   "execution_count": 1,
   "id": "e9a13072",
   "metadata": {},
   "outputs": [],
   "source": [
    "import pandas as pd\n",
    "import pickle as pkl"
   ]
  },
  {
   "cell_type": "code",
   "execution_count": 2,
   "id": "9cceed57",
   "metadata": {},
   "outputs": [],
   "source": [
    "def sign_bio_model_nodes(edges, all_nodes, node_num):\n",
    "    '''\n",
    "    edges: It is a dataframe with three columns: 'froms', 'to' and 'sign' where 'from' and 'to' corresponds \n",
    "    to vector of nodes from which an edge emanates and terminates respectively and sign denotes the nature of the edge.\n",
    "    all_nodes: This is a list of nodes ([gene0, gene1, gene2,...])\n",
    "    node_num: This is a dictionary that links genes with an index ({'gene0': 0, 'gene1': 1, 'gene2': 2, 'gene3': 3,\n",
    "    'gene4': 4, 'gene5': 5, ...})\n",
    "    returns information about the sign of the interactions in the network\n",
    "        -({0: 'ai', 1: 'aia', 2: 'aaaaa', 3: 'a', 4: 'a', ...})\n",
    "    '''\n",
    "    signs = dict()\n",
    "    for node in all_nodes:\n",
    "        inter = edges.loc[edges[\"to\"] == node, [\"sign\"]]\n",
    "        signs[node_num[node]] = ''.join(list(inter.sign))\n",
    "    return signs"
   ]
  },
  {
   "cell_type": "code",
   "execution_count": 6,
   "id": "d6a7fe66",
   "metadata": {},
   "outputs": [],
   "source": [
    "def give_constrained_threshold_models(edges, in_edges, node_num):\n",
    "    TMR_dict = {}\n",
    "    for func in ['IMR', 'BMR']:\n",
    "        all_nodes = list(node_num.keys())\n",
    "        n = len(all_nodes)\n",
    "        signs = sign_bio_model_nodes(edges, all_nodes, node_num)\n",
    "        if func == 'IMR':\n",
    "            self_loop_index_dict = {n: in_edges[n].index(n) for n in in_edges if len(in_edges[n]) % 2 == 0 and n in in_edges[n]}\n",
    "            model = {}\n",
    "            for i in range(n):\n",
    "                orig_inp_number = len(in_edges[i])\n",
    "                df1 = pd.read_csv(fr\"../../../computational/all_IMR_tsv/all_IMR_k{orig_inp_number}.tsv\", sep = '\\t', dtype={\"self_loop_index\": str, \"BF\": str})\n",
    "                if i in self_loop_index_dict:\n",
    "                    bin_model = df1.loc[(df1[\"sign\"] == signs[i]) & (df1[\"self_loop_index\"] == str(self_loop_index_dict[i])), \"BF\"].astype(str).values[0]\n",
    "                    model[i] = int(bin_model, 2)\n",
    "                else:\n",
    "                    bin_model = df1.loc[(df1[\"sign\"] == signs[i]) & (df1[\"self_loop\"] == 'N'), \"BF\"].astype(str).values[0]\n",
    "                    model[i] = int(bin_model, 2)\n",
    "            maj_rule_mod = list(model.values())\n",
    "            TMR_dict[func] = maj_rule_mod\n",
    "            \n",
    "        if func == 'BMR':\n",
    "            self_loop_index_dict = {n: in_edges[n].index(n) for n in in_edges if n in in_edges[n]}\n",
    "            model = {}\n",
    "            for i in range(n):\n",
    "                orig_inp_number = len(in_edges[i])\n",
    "                df1 = pd.read_csv(fr\"../../../computational/all_BMR_tsv/all_BMR_k{orig_inp_number}.tsv\", sep = '\\t', dtype={\"self_loop_index\": str, \"BF\": str})\n",
    "                if i in self_loop_index_dict:\n",
    "                    bin_model = df1.loc[(df1[\"sign\"] == signs[i]) & (df1[\"self_loop_index\"] == str(self_loop_index_dict[i])), \"BF\"].astype(str).values[0]\n",
    "                    model[i] = int(bin_model, 2)\n",
    "                else:\n",
    "                    bin_model = df1.loc[(df1[\"sign\"] == signs[i]) & (df1[\"self_loop\"] == 'N'), \"BF\"].astype(str).values[0]\n",
    "                    model[i] = int(bin_model, 2)\n",
    "            maj_rule_mod = list(model.values())\n",
    "            TMR_dict[func] = maj_rule_mod\n",
    "            \n",
    "    return TMR_dict"
   ]
  },
  {
   "cell_type": "code",
   "execution_count": 9,
   "id": "a0519162",
   "metadata": {},
   "outputs": [
    {
     "name": "stdout",
     "output_type": "stream",
     "text": [
      "{'IMR': [113, 77, 43, 23, 23, 18290559, 77, 5214401853277568295361350912147455, 1, 3653461613885928115, 1, 1, 1, 1, 1], 'BMR': [113, 29175, 19935, 127, 32767, 9223372036854775807, 77, 57896044618658097711785492504343953926634992332820282019728792003956564819967, 7, 3653461613885928115, 7, 7, 7, 1, 1]}\n"
     ]
    }
   ],
   "source": [
    "mod_num = 10\n",
    "edges = pd.read_csv(f'../../network_generation/output/published_network_info/model_{mod_num}/model_{mod_num}_edgelist.tsv', sep = '\\t')\n",
    "with open(f'../../network_generation/output/published_network_info/model_{mod_num}/inedges.pkl', 'rb') as file1:\n",
    "    in_edges = pkl.load(file1)\n",
    "\n",
    "with open(f'../../network_generation/output/published_network_info/model_{mod_num}/node_num_swap.pkl', 'rb') as file2:\n",
    "    node_num_swap = pkl.load(file2)\n",
    "    \n",
    "    \n",
    "node_num = {value: key for key, value in node_num_swap.items()}\n",
    "A = give_constrained_threshold_models(edges, in_edges, node_num)\n",
    "print(A)"
   ]
  },
  {
   "cell_type": "code",
   "execution_count": null,
   "id": "fb6f722d",
   "metadata": {},
   "outputs": [],
   "source": []
  }
 ],
 "metadata": {
  "kernelspec": {
   "display_name": "Python [conda env:base] *",
   "language": "python",
   "name": "conda-base-py"
  },
  "language_info": {
   "codemirror_mode": {
    "name": "ipython",
    "version": 3
   },
   "file_extension": ".py",
   "mimetype": "text/x-python",
   "name": "python",
   "nbconvert_exporter": "python",
   "pygments_lexer": "ipython3",
   "version": "3.11.0"
  }
 },
 "nbformat": 4,
 "nbformat_minor": 5
}
