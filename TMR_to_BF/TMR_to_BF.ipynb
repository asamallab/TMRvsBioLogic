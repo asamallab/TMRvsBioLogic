{
 "cells": [
  {
   "cell_type": "code",
   "execution_count": 3,
   "id": "d97de252",
   "metadata": {},
   "outputs": [],
   "source": [
    "import numpy as np\n",
    "from BF_checkers import *\n",
    "from BF_generators import *\n",
    "from BF_properties import *"
   ]
  },
  {
   "cell_type": "code",
   "execution_count": 4,
   "id": "4fd66343",
   "metadata": {},
   "outputs": [],
   "source": [
    "def IntsToBitsFast_lr (ints, size):\n",
    "    '''\n",
    "    return an array of bits of length 'size' for the set of integers ints such that the MSB is at column 0\n",
    "    source: https://stackoverflow.com/questions/\n",
    "    ints: numpy array of integers\n",
    "    size: required size of the array of bits\n",
    "    '''\n",
    "    return (((ints[:,None] & (1 << np.arange(size, dtype = 'int64'))[::-1])) > 0).astype(int)"
   ]
  },
  {
   "cell_type": "code",
   "execution_count": 5,
   "id": "a15c2619",
   "metadata": {},
   "outputs": [],
   "source": [
    "def make_EF_from_IEF(k, f, inp_list):\n",
    "    \n",
    "    ineff_ind = []\n",
    "    z = bf(k, f).indices()[0]\n",
    "    o = bf(k, f).indices()[1]\n",
    "    for i in z:\n",
    "        z_ele = list(itemgetter(*z[i])(f))\n",
    "        o_ele = list(itemgetter(*o[i])(f))\n",
    "        if z_ele == o_ele:\n",
    "            ineff_ind.append(i)\n",
    "    if ineff_ind == []:\n",
    "        return inp_list, f\n",
    "    else:\n",
    "        union_result = set.union(*(set(z[k]) for k in ineff_ind))\n",
    "        EF_f = \"\".join(c for i, c in enumerate(f) if i not in union_result)\n",
    "        ineff_ind_usable = sorted(k-np.array(ineff_ind))\n",
    "        EF_inp_list = [inp_list[i] for i in (range(k)) if i not in ineff_ind_usable]\n",
    "        return EF_inp_list, EF_f"
   ]
  },
  {
   "cell_type": "markdown",
   "id": "8b83704d",
   "metadata": {},
   "source": [
    "# IMR to BF"
   ]
  },
  {
   "cell_type": "markdown",
   "id": "134dc93f",
   "metadata": {},
   "source": [
    "We want to map an IMR to the corresponding BF.\n",
    "The IMR is defined by\n",
    "$$S_i(t+1) = \\begin{cases}\n",
    "+1 ~~~if \\sum_j J_{ij}S_j > 0\\\\\n",
    "-1 ~~~if \\sum_j J_{ij}S_j < 0\\\\\n",
    "S_i(t) ~~~if \\sum_j J_{ij}S_j = 0\n",
    "\\end{cases}\n",
    "$$\n",
    "Here, $J_{ij}$ indicates the sign of the edge from node $j$ to node $i$ and hence can be either +1 or -1. In this formalism the state of any node can be either +1 or -1. If all regulators are external then we can map a $k$-input IMR to a $k$-input BF if $k$ is odd otherwise it will map to a $k+1$-input, where the added implicit input is $S_i(t)$.<br> \n",
    "First, for a given sign combination we calculate the values of $\\sum_j J_{ij}S_j$. Here, first we have mapped the {0,1} to {-1, 1} with the transformation $S'_{i} = (2S_i-1)$ that maps 0 to -1 and 1 to 1. So, we can compute the quantity $\\sum_j J_{ij}S_j$ for each input combination now. Once, this computation is done, we replace the place where $\\sum_j J_{ij}S_j = 0$ by the respective entries from the column associated with $S_i(t)$. Then, we apply sign function on it. Finally, we change the -1's to 0 and keep the 1's as it is.Once we join the array, we obtain the equivalent Boolean string. If $k$ is odd then the quantity $\\sum_j J_{ij}S_j$ will never be equal to 0 then we directly proceed with the application of sign function. This function outputs a string length $2^k$ if $k$ is odd and $2^{k+1}$ if $k$ is even. Each bit in this string corresponds to the output corresponding to the respective entry when written in canonical order with correspondence of '0' to '-1' and '1' to '1'. <br>\n",
    "\n",
    "When there is a self-loop we map it to a k-input BF (which may or may not be EF)."
   ]
  },
  {
   "cell_type": "markdown",
   "id": "9497042c",
   "metadata": {},
   "source": [
    "(a) When all regulators $k$ regulators are external. If k is odd and even if there is a self-regulation,\n",
    "    this code is still applicable."
   ]
  },
  {
   "cell_type": "code",
   "execution_count": 6,
   "id": "ec6dbc5d",
   "metadata": {},
   "outputs": [],
   "source": [
    "def IMR_to_EF_all_external_regulators(k, sign, self_loop_index):\n",
    "    '''\n",
    "    This code is suitable when all regulators are external. If k is odd and even if there is a self-regulation,\n",
    "    the same code is applicable.\n",
    "    \n",
    "    Input\n",
    "    -----\n",
    "    k: Number of regulators\n",
    "    sign: k-length array of +1 and -1 which corresponds to the signs of the regulators\n",
    "    self_loop_index: The index where the self-loop will be added. Only relevant if k is even.\n",
    "    \n",
    "    Output\n",
    "    -----\n",
    "    A binary string of length 2^k (if k odd) or 2^(k+1) (if k even)\n",
    "    '''\n",
    "    if k%2 == 0:\n",
    "        all_inp = IntsToBitsFast_lr (np.array([i for i in range(2**(k+1))]), k+1)\n",
    "        inps_excl_self_loop = np.delete(all_inp, self_loop_index, axis=1)\n",
    "        j_ij_s_j = np.sum(sign * (2 * inps_excl_self_loop - 1), axis=1)\n",
    "        self_inp_col = all_inp[:, self_loop_index]\n",
    "        j_ij_s_j_0_replaced = np.where(j_ij_s_j == 0, (2 * self_inp_col - 1), j_ij_s_j)\n",
    "        sign_result = np.sign(j_ij_s_j_0_replaced)\n",
    "        modified_array = np.where(sign_result == -1, 0, sign_result)\n",
    "        EF_logic_func_string = ''.join(modified_array.astype(str))\n",
    "        \n",
    "    else:\n",
    "        all_inp = IntsToBitsFast_lr (np.array([i for i in range(2**(k))]), k)\n",
    "        j_ij_s_j = np.sum(sign * (2 * all_inp[:, :k] - 1), axis=1)\n",
    "        sign_result = np.sign(j_ij_s_j)\n",
    "        modified_array = np.where(sign_result == -1, 0, sign_result)\n",
    "        EF_logic_func_string = ''.join(modified_array.astype(str))\n",
    "        \n",
    "    return EF_logic_func_string"
   ]
  },
  {
   "cell_type": "code",
   "execution_count": 7,
   "id": "83c9c64e",
   "metadata": {},
   "outputs": [
    {
     "data": {
      "text/plain": [
       "'00101011000000101011111100101011'"
      ]
     },
     "execution_count": 7,
     "metadata": {},
     "output_type": "execute_result"
    }
   ],
   "source": [
    "IMR_to_EF_all_external_regulators(4, [-1, 1, 1, -1], 0)"
   ]
  },
  {
   "cell_type": "markdown",
   "id": "b94c85c0",
   "metadata": {},
   "source": [
    "(b) This is applicable if k is even and there is a self-regulation."
   ]
  },
  {
   "cell_type": "code",
   "execution_count": 8,
   "id": "32021836",
   "metadata": {},
   "outputs": [],
   "source": [
    "def IMR_to_EF_with_self_regulation_with_even_k(k, sign, self_index):\n",
    "    '''\n",
    "    Use this code to obtain the EF which corresponds to an IMR with k regulators including a self-regulation\n",
    "    and k is even.\n",
    "    Input\n",
    "    -----\n",
    "    k: Number of regulators\n",
    "    sign: k-length array of +1 and -1 which corresponds to the signs of the regulators\n",
    "    self_index: The index of the self-regulator within the inputs.\n",
    "    \n",
    "    Output\n",
    "    -----\n",
    "    A binary string of length 2^k or 2^(k-1)\n",
    "    '''\n",
    "    if k%2 == 0:\n",
    "        all_inp = IntsToBitsFast_lr (np.array([i for i in range(2**k)]), k)\n",
    "        j_ij_s_j = np.sum(sign * (2 * all_inp[:, :k] - 1), axis=1)\n",
    "        last_inp_col = all_inp[:, self_index]\n",
    "        j_ij_s_j_0_replaced = np.where(j_ij_s_j == 0, (2 * last_inp_col - 1), j_ij_s_j)\n",
    "        sign_result = np.sign(j_ij_s_j_0_replaced)\n",
    "        modified_array = np.where(sign_result == -1, 0, sign_result)\n",
    "        logic_func_string = ''.join(modified_array.astype(str))\n",
    "        EF_logic_string = make_EF_from_IEF(k, logic_func_string, [i for i in range (k)])[1]\n",
    "    return EF_logic_string"
   ]
  },
  {
   "cell_type": "code",
   "execution_count": 9,
   "id": "2bcddb5f",
   "metadata": {},
   "outputs": [
    {
     "data": {
      "text/plain": [
       "'01110001'"
      ]
     },
     "execution_count": 9,
     "metadata": {},
     "output_type": "execute_result"
    }
   ],
   "source": [
    "IMR_to_EF_with_self_regulation_with_even_k(4, [-1,-1, 1, 1], 1)"
   ]
  },
  {
   "cell_type": "markdown",
   "id": "bea8dffd",
   "metadata": {},
   "source": [
    "# BMR to BF"
   ]
  },
  {
   "cell_type": "markdown",
   "id": "eb889e82",
   "metadata": {},
   "source": [
    "BMR is defined as the same way as IMR. The only difference is, here the states of the nodes are 0 or 1."
   ]
  },
  {
   "cell_type": "code",
   "execution_count": 10,
   "id": "b967640b",
   "metadata": {},
   "outputs": [],
   "source": [
    "def BMR_to_EF_all_external_regulators(k, sign, self_loop_index):\n",
    "    '''\n",
    "    This code is suitable when all regulators are external.\n",
    "    \n",
    "    Input\n",
    "    -----\n",
    "    k: Number of regulators\n",
    "    sign: k-length array of +1 and -1 which corresponds to the signs of the regulators\n",
    "    self_loop_index: The index where the self-loop will be added. Only relevant if k is even.\n",
    "    \n",
    "    Output\n",
    "    -----\n",
    "    A binary string of length 2^(k+1)\n",
    "    '''\n",
    "    all_inp = IntsToBitsFast_lr (np.array([i for i in range(2**(k+1))]), k+1)\n",
    "    inps_excl_self_loop = np.delete(all_inp, self_loop_index, axis=1)\n",
    "    j_ij_s_j = np.sum(sign * inps_excl_self_loop, axis=1)\n",
    "    self_inp_col = all_inp[:, self_loop_index]\n",
    "    j_ij_s_j_0_replaced = np.where(j_ij_s_j == 0, self_inp_col, j_ij_s_j)\n",
    "    sign_result = np.sign(j_ij_s_j_0_replaced)\n",
    "    modified_array = np.where(sign_result == -1, 0, sign_result)\n",
    "    EF_logic_func_string = ''.join(modified_array.astype(str))\n",
    "    return EF_logic_func_string"
   ]
  },
  {
   "cell_type": "code",
   "execution_count": 11,
   "id": "e951f7aa",
   "metadata": {},
   "outputs": [
    {
     "data": {
      "text/plain": [
       "'0100110111011111'"
      ]
     },
     "execution_count": 11,
     "metadata": {},
     "output_type": "execute_result"
    }
   ],
   "source": [
    "BMR_to_EF_all_external_regulators(3, [1,-1, 1], 1)"
   ]
  },
  {
   "cell_type": "code",
   "execution_count": 14,
   "id": "e1787295",
   "metadata": {},
   "outputs": [],
   "source": [
    "def BMR_to_EF_with_self_regulation(k, sign, self_index):\n",
    "    '''\n",
    "    Use this code to obtain the EF which corresponds to an BMR with k regulators including a self-regulation\n",
    "    \n",
    "    Input\n",
    "    -----\n",
    "    k: Number of regulators\n",
    "    sign: k-length array of +1 and -1 which corresponds to the signs of the regulators\n",
    "    self_index: The index of the self-regulator within the inputs.\n",
    "    \n",
    "    Output\n",
    "    -----\n",
    "    A binary string of length 2^k or 2^(k-1)\n",
    "    '''\n",
    "    all_inp = IntsToBitsFast_lr (np.array([i for i in range(2**k)]), k)\n",
    "    j_ij_s_j = np.sum(sign * all_inp[:, :k], axis=1)\n",
    "    last_inp_col = all_inp[:, self_index]\n",
    "    j_ij_s_j_0_replaced = np.where(j_ij_s_j == 0, last_inp_col, j_ij_s_j)\n",
    "    sign_result = np.sign(j_ij_s_j_0_replaced)\n",
    "    modified_array = np.where(sign_result == -1, 0, sign_result)\n",
    "    logic_func_string = ''.join(modified_array.astype(str))\n",
    "    EF_logic_string = make_EF_from_IEF(k, logic_func_string, [i for i in range (k)])[1]\n",
    "    return EF_logic_string"
   ]
  },
  {
   "cell_type": "code",
   "execution_count": 15,
   "id": "83442f27",
   "metadata": {},
   "outputs": [
    {
     "data": {
      "text/plain": [
       "'00111011'"
      ]
     },
     "execution_count": 15,
     "metadata": {},
     "output_type": "execute_result"
    }
   ],
   "source": [
    "BMR_to_EF_with_self_regulation(3, [1,1,-1], 1)"
   ]
  },
  {
   "cell_type": "code",
   "execution_count": null,
   "id": "1fee6a1c",
   "metadata": {},
   "outputs": [],
   "source": []
  }
 ],
 "metadata": {
  "kernelspec": {
   "display_name": "Python [conda env:base] *",
   "language": "python",
   "name": "conda-base-py"
  },
  "language_info": {
   "codemirror_mode": {
    "name": "ipython",
    "version": 3
   },
   "file_extension": ".py",
   "mimetype": "text/x-python",
   "name": "python",
   "nbconvert_exporter": "python",
   "pygments_lexer": "ipython3",
   "version": "3.11.0"
  }
 },
 "nbformat": 4,
 "nbformat_minor": 5
}
